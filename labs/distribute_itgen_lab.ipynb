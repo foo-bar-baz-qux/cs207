{
 "cells": [
  {
   "cell_type": "markdown",
   "metadata": {
    "collapsed": true
   },
   "source": [
    "## Q1.\n",
    "\n",
    "Add methods `__iter__` to your project Time Series class to iterate over values, a method `itertimes` to iterate over times, a method `itervalues` to iterate over values, and a method `iteritems` to iterate over time-value pairs. (This is a similar interface to python dictionaries). To test these, check both the types of the results and the answers you expect."
   ]
  },
  {
   "cell_type": "code",
   "execution_count": 1,
   "metadata": {
    "collapsed": true
   },
   "outputs": [],
   "source": [
    "#your code here\n",
    "# See team project repo"
   ]
  },
  {
   "cell_type": "markdown",
   "metadata": {},
   "source": [
    "## Q2.\n",
    "\n",
    "An online mean and standard deviation algorithm.\n",
    "\n",
    "Below is a function to generate a potentially infinite stream of 1-D data."
   ]
  },
  {
   "cell_type": "code",
   "execution_count": 1,
   "metadata": {
    "collapsed": false
   },
   "outputs": [],
   "source": [
    "from random import normalvariate, random\n",
    "from itertools import count\n",
    "def make_data(m, stop=None):\n",
    "    for _ in count():\n",
    "        if stop and _ > stop:\n",
    "            break\n",
    "        yield 1.0e09 + normalvariate(0, m*random() )\n",
    "        "
   ]
  },
  {
   "cell_type": "markdown",
   "metadata": {},
   "source": [
    "Here is an implementation of an online mean algorithm..see http://www.johndcook.com/blog/standard_deviation/ and the link to http://www.johndcook.com/blog/2008/09/26/comparing-three-methods-of-computing-standard-deviation/ in-between. (Convince yourselves of the formulas...)"
   ]
  },
  {
   "cell_type": "code",
   "execution_count": 2,
   "metadata": {
    "collapsed": true
   },
   "outputs": [],
   "source": [
    "def online_mean(iterator):\n",
    "    n = 0\n",
    "    mu = 0\n",
    "    for value in iterator:\n",
    "        n += 1\n",
    "        delta = value - mu\n",
    "        mu = mu + delta/n\n",
    "        yield mu"
   ]
  },
  {
   "cell_type": "markdown",
   "metadata": {},
   "source": [
    "We use out generator functions to implement iterators:"
   ]
  },
  {
   "cell_type": "code",
   "execution_count": 3,
   "metadata": {
    "collapsed": false
   },
   "outputs": [
    {
     "data": {
      "text/plain": [
       "[1000000000.2483191,\n",
       " 1000000001.7175666,\n",
       " 999999999.2208488,\n",
       " 999999999.2710557,\n",
       " 999999997.4430383,\n",
       " 999999999.9566939,\n",
       " 1000000000.9763582,\n",
       " 1000000001.0733516,\n",
       " 999999999.9241843,\n",
       " 999999998.7275048,\n",
       " 999999999.9380003]"
      ]
     },
     "execution_count": 3,
     "metadata": {},
     "output_type": "execute_result"
    }
   ],
   "source": [
    "g = make_data(5, 10)\n",
    "list(g)"
   ]
  },
  {
   "cell_type": "code",
   "execution_count": 4,
   "metadata": {
    "collapsed": false
   },
   "outputs": [
    {
     "name": "stdout",
     "output_type": "stream",
     "text": [
      "<class 'generator'>\n"
     ]
    },
    {
     "data": {
      "text/plain": [
       "[999999998.7560065,\n",
       " 1000000004.2296506,\n",
       " 1000000002.640017,\n",
       " 1000000001.6089094,\n",
       " 1000000001.2274193,\n",
       " 1000000001.3009561,\n",
       " 1000000001.4638871,\n",
       " 1000000002.5257026,\n",
       " 1000000002.7656804,\n",
       " 1000000002.3871646,\n",
       " 1000000002.2381872,\n",
       " 1000000001.8489997,\n",
       " 1000000001.5907165,\n",
       " 1000000001.2823277,\n",
       " 1000000000.9260416,\n",
       " 1000000000.686166,\n",
       " 1000000000.6798712,\n",
       " 1000000000.9366128,\n",
       " 1000000000.7683005,\n",
       " 1000000000.7819194,\n",
       " 1000000000.709597,\n",
       " 1000000000.6445792,\n",
       " 1000000000.5735127,\n",
       " 1000000000.5824695,\n",
       " 1000000000.7244146,\n",
       " 1000000000.6694156,\n",
       " 1000000000.5137767,\n",
       " 1000000000.5250639,\n",
       " 1000000000.4312708,\n",
       " 1000000000.3267772,\n",
       " 1000000000.3246696,\n",
       " 1000000000.3182658,\n",
       " 1000000000.3309765,\n",
       " 1000000000.3203361,\n",
       " 1000000000.2750416,\n",
       " 1000000000.4469855,\n",
       " 1000000000.426442,\n",
       " 1000000000.3733248,\n",
       " 1000000000.4074972,\n",
       " 1000000000.3686476,\n",
       " 1000000000.1829406,\n",
       " 1000000000.095577,\n",
       " 1000000000.019109,\n",
       " 1000000000.1051184,\n",
       " 1000000000.0332004,\n",
       " 1000000000.0313668,\n",
       " 999999999.9322939,\n",
       " 999999999.930284,\n",
       " 999999999.9530829,\n",
       " 999999999.8630098,\n",
       " 999999999.8978289,\n",
       " 999999999.8315762,\n",
       " 999999999.8438643,\n",
       " 999999999.8427546,\n",
       " 1000000000.0296276,\n",
       " 1000000000.1089853,\n",
       " 1000000000.1168139,\n",
       " 1000000000.0543646,\n",
       " 999999999.9569572,\n",
       " 999999999.9752052,\n",
       " 999999999.9387375,\n",
       " 999999999.8664604,\n",
       " 999999999.7720536,\n",
       " 999999999.7543418,\n",
       " 999999999.7491994,\n",
       " 999999999.7740599,\n",
       " 999999999.7400576,\n",
       " 999999999.6862985,\n",
       " 999999999.7253475,\n",
       " 999999999.711381,\n",
       " 999999999.7275244,\n",
       " 999999999.7401056,\n",
       " 999999999.7435938,\n",
       " 999999999.7943851,\n",
       " 999999999.7906764,\n",
       " 999999999.7903489,\n",
       " 999999999.7630653,\n",
       " 999999999.7098047,\n",
       " 999999999.7217139,\n",
       " 999999999.7593772,\n",
       " 999999999.7792003,\n",
       " 999999999.8976779,\n",
       " 999999999.9417717,\n",
       " 999999999.9227046,\n",
       " 999999999.9044296,\n",
       " 999999999.9115022,\n",
       " 999999999.9075168,\n",
       " 999999999.8916812,\n",
       " 999999999.9802365,\n",
       " 1000000000.0032644,\n",
       " 1000000000.0054004,\n",
       " 1000000000.0051235,\n",
       " 999999999.9285147,\n",
       " 999999999.9985751,\n",
       " 999999999.9784315,\n",
       " 1000000000.0165436,\n",
       " 1000000000.0357758,\n",
       " 999999999.9570658,\n",
       " 1000000000.067363,\n",
       " 1000000000.0549167,\n",
       " 1000000000.0312554]"
      ]
     },
     "execution_count": 4,
     "metadata": {},
     "output_type": "execute_result"
    }
   ],
   "source": [
    "g = online_mean(make_data(5, 100))\n",
    "print(type(g))\n",
    "list(g)"
   ]
  },
  {
   "cell_type": "markdown",
   "metadata": {},
   "source": [
    "### 2.1\n",
    "\n",
    "Implement the standard deviation algorithm as a generator function as\n",
    "\n",
    "```python\n",
    "def online_mean_dev(iterator):\n",
    "    BLA BLA\n",
    "    if n > 1:\n",
    "        stddev = math.sqrt(dev_accum/(n-1))\n",
    "        yield (n, value, mu, stddev)\n",
    "```"
   ]
  },
  {
   "cell_type": "code",
   "execution_count": 16,
   "metadata": {
    "collapsed": false
   },
   "outputs": [],
   "source": [
    "# your code here\n",
    "import numpy as np\n",
    "import math\n",
    "\n",
    "def online_mean_dev(iterator):\n",
    "    n = 0    \n",
    "    mu, dev_accum = None, None\n",
    "    stddev = None\n",
    "    for num in iterator:\n",
    "        n += 1\n",
    "        \n",
    "        if n == 1:\n",
    "            mu = num\n",
    "            dev_accum = 0\n",
    "            stddev = np.nan\n",
    "        else:\n",
    "            old_mu = mu\n",
    "            mu = mu + (num - mu)/n\n",
    "            dev_accum = dev_accum + (num - old_mu) * \\\n",
    "                (num - mu)\n",
    "            stddev = math.sqrt(dev_accum/(n-1))\n",
    "        yield (n, num, mu, stddev)"
   ]
  },
  {
   "cell_type": "markdown",
   "metadata": {},
   "source": [
    "Here we make 100000 element data, and run this iterator on it (imagine running this on a time-series being slowly read from disk"
   ]
  },
  {
   "cell_type": "code",
   "execution_count": 19,
   "metadata": {
    "collapsed": false
   },
   "outputs": [],
   "source": [
    "data_with_stats = online_mean_dev(make_data(5, 100000))\n",
    "# print(data_with_stats[0])"
   ]
  },
  {
   "cell_type": "markdown",
   "metadata": {},
   "source": [
    "## Q3.\n",
    "\n",
    "Let's do Anomaly detection. Write a routine `is_ok`:\n",
    "\n",
    "```python\n",
    "def is_ok(level, t)\n",
    "```\n",
    "\n",
    "which takes a tuple like the one yielded by your code above and returns True if the value is inbetween `level`-$\\sigma$ of the mean."
   ]
  },
  {
   "cell_type": "code",
   "execution_count": 20,
   "metadata": {
    "collapsed": true
   },
   "outputs": [],
   "source": [
    "#your code here\n",
    "def is_ok(level, t):\n",
    "    n, num, mu, stddev = t\n",
    "    return (-level * stddev + mu) <= num <= (level * stddev + mu)"
   ]
  },
  {
   "cell_type": "markdown",
   "metadata": {},
   "source": [
    "We use this function to create a predicate passed through to `itertools.filterfalse` which is then used to obtain an iterator on the anomalies."
   ]
  },
  {
   "cell_type": "code",
   "execution_count": 21,
   "metadata": {
    "collapsed": true
   },
   "outputs": [],
   "source": [
    "from itertools import filterfalse\n",
    "pred = lambda t: is_ok(5, t)\n",
    "anomalies = filterfalse(pred, data_with_stats)"
   ]
  },
  {
   "cell_type": "markdown",
   "metadata": {},
   "source": [
    "We materialize the anomalies..."
   ]
  },
  {
   "cell_type": "code",
   "execution_count": 22,
   "metadata": {
    "collapsed": false
   },
   "outputs": [
    {
     "data": {
      "text/plain": [
       "[(1, 999999999.8438935, 999999999.8438935, nan),\n",
       " (3250, 1000000017.4806058, 999999999.9445951, 2.8618371303328543),\n",
       " (3712, 1000000015.282047, 999999999.9473315, 2.8614212998204924),\n",
       " (4510, 1000000014.9706957, 999999999.9714713, 2.8995781131968394),\n",
       " (6462, 1000000014.5301795, 999999999.967669, 2.895039700137576),\n",
       " (7129, 999999981.1367793, 999999999.9767876, 2.902447704549819),\n",
       " (11578, 999999985.1587152, 999999999.9761664, 2.907613608242672),\n",
       " (11796, 1000000015.3252591, 999999999.9796087, 2.908895229689659),\n",
       " (12792, 999999985.3967189, 999999999.9842292, 2.904821794040266),\n",
       " (18642, 999999984.8977883, 999999999.9821388, 2.880160124206725),\n",
       " (26419, 999999983.3929456, 999999999.9966364, 2.8908546264597046),\n",
       " (28126, 999999985.5261078, 999999999.9923877, 2.8915093148400635),\n",
       " (28457, 1000000015.1930368, 999999999.9914454, 2.893201648755465),\n",
       " (30050, 999999985.3163742, 999999999.9905875, 2.894027969360338),\n",
       " (34428, 999999983.7703326, 999999999.9933141, 2.8957794433063615),\n",
       " (42559, 1000000015.9900397, 999999999.9991225, 2.8954948151405127),\n",
       " (43775, 1000000014.8706173, 1000000000.0018504, 2.8947667554957746),\n",
       " (48974, 1000000015.195427, 1000000000.000105, 2.895059224326677),\n",
       " (50303, 999999984.7362216, 1000000000.0008556, 2.8956837641874844),\n",
       " (51320, 999999984.6390702, 1000000000.000665, 2.8959698053974696),\n",
       " (52579, 1000000014.5559597, 1000000000.0044311, 2.900752067048236),\n",
       " (53087, 999999985.0925554, 1000000000.0031484, 2.9008469752379806),\n",
       " (58746, 1000000015.7694622, 1000000000.0059279, 2.8963374400038484),\n",
       " (59686, 1000000015.3433688, 1000000000.0058448, 2.8957040616643543),\n",
       " (65829, 999999985.306171, 1000000000.0042665, 2.8891620350016987),\n",
       " (71134, 1000000014.7646481, 1000000000.0094813, 2.8832722279780394),\n",
       " (74077, 1000000014.6698682, 1000000000.0070441, 2.8866167586547524),\n",
       " (75474, 999999985.5365229, 1000000000.0054307, 2.8869021665504957),\n",
       " (84046, 999999985.2071638, 1000000000.0104948, 2.886535703505875),\n",
       " (85136, 1000000016.6636622, 1000000000.0124741, 2.88594455150009),\n",
       " (85323, 999999981.362292, 1000000000.0127213, 2.885968453195745),\n",
       " (87419, 1000000014.6655434, 1000000000.0138116, 2.885138908414023),\n",
       " (92526, 999999984.794814, 1000000000.0123401, 2.886037014800548),\n",
       " (93081, 1000000015.6528565, 1000000000.0130844, 2.8869642317365116),\n",
       " (95511, 1000000014.7808663, 1000000000.0139927, 2.8891182865028844),\n",
       " (98384, 1000000014.8360394, 1000000000.0111461, 2.8888376820098256),\n",
       " (99170, 999999984.945967, 1000000000.0109196, 2.889081836888885)]"
      ]
     },
     "execution_count": 22,
     "metadata": {},
     "output_type": "execute_result"
    }
   ],
   "source": [
    "list(anomalies)#materialize"
   ]
  },
  {
   "cell_type": "markdown",
   "metadata": {},
   "source": [
    "## To think of, but not hand in\n",
    "\n",
    "What kinds of anomalies will this algorithm pick up? What kinds would a shorter \"window\" of anomaly detection, like 100 points around the time in question pick? How might you create an algorithm which does window based averaging? (hint: the window size is small compared to the time series size). \n",
    "\n",
    "Finally think a bit of how you might implement all of this in a production environment..remember that data streaming in might get backed up when you handle an anomaly.\n",
    "\n",
    "(Some inspiration might accrue if you look at the docs for `collections.deque`)."
   ]
  },
  {
   "cell_type": "code",
   "execution_count": null,
   "metadata": {
    "collapsed": true
   },
   "outputs": [],
   "source": []
  }
 ],
 "metadata": {
  "kernelspec": {
   "display_name": "Python 3",
   "language": "python",
   "name": "python3"
  },
  "language_info": {
   "codemirror_mode": {
    "name": "ipython",
    "version": 3
   },
   "file_extension": ".py",
   "mimetype": "text/x-python",
   "name": "python",
   "nbconvert_exporter": "python",
   "pygments_lexer": "ipython3",
   "version": "3.5.1"
  }
 },
 "nbformat": 4,
 "nbformat_minor": 0
}
