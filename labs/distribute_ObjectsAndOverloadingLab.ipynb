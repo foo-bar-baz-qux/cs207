{
 "cells": [
  {
   "cell_type": "markdown",
   "metadata": {},
   "source": [
    "### Q1. Continuing the Vector\n",
    "\n",
    "Our Vector implementation so far looks like this"
   ]
  },
  {
   "cell_type": "code",
   "execution_count": 2,
   "metadata": {
    "collapsed": true
   },
   "outputs": [],
   "source": [
    "#example from Fluent\n",
    "from array import array \n",
    "import reprlib\n",
    "import math\n",
    "import numbers\n",
    "import functools\n",
    "import operator\n",
    "import itertools\n",
    "\n",
    "class Vector:\n",
    "    typecode = 'd'\n",
    "    \n",
    "    def __init__(self, components):\n",
    "        self._components = array(self.typecode, components)\n",
    "        \n",
    "    def __iter__(self):\n",
    "        return iter(self._components)\n",
    "    \n",
    "    def __repr__(self):\n",
    "        components = reprlib.repr(self._components) \n",
    "        components = components[components.find('['):-1] \n",
    "        return 'Vector({})'.format(components)\n",
    "    \n",
    "    def __eq__(self, other):\n",
    "        if isinstance(other, Vector):\n",
    "            return (len(self) == len(other) and\n",
    "                all(a == b for a, b in zip(self, other)))\n",
    "        else:\n",
    "            return NotImplemented\n",
    "    \n",
    "    def __abs__(self):\n",
    "        return math.sqrt(sum(x * x for x in self))\n",
    "    \n",
    "    def __bool__(self): \n",
    "        return bool(abs(self))\n",
    "    \n",
    "    def __len__(self):\n",
    "        return len(self._components)\n",
    "    \n",
    "    def __getitem__(self, index): \n",
    "        cls = type(self)\n",
    "        \n",
    "        if isinstance(index, slice):\n",
    "            return cls(self._components[index])\n",
    "        elif isinstance(index, numbers.Integral): \n",
    "            return self._components[index]\n",
    "        else:\n",
    "            msg = '{.__name__} indices must be integers' \n",
    "            raise TypeError(msg.format(cls))\n",
    "            \n",
    "    def __neg__(self):\n",
    "        return Vector(-x for x in self) \n",
    "    \n",
    "    def __pos__(self):\n",
    "        return Vector(self)\n",
    "    \n",
    "    def _check_length_helper(self , rhs):\n",
    "        if not len(self)==len(rhs):\n",
    "            raise ValueError(str(self)+' and '+str(rhs)+' must have the same length')\n",
    "    \n",
    "    def __add__(self, rhs):\n",
    "        try:\n",
    "            if isinstance(rhs, numbers.Real):\n",
    "                return Vector(a + rhs for a in self) \n",
    "            else: #\n",
    "                self._check_length_helper(rhs)\n",
    "                pairs = zip(self, rhs)\n",
    "                return Vector(a + b for a, b in pairs)\n",
    "        except TypeError:\n",
    "            raise NotImplemented\n",
    "    \n",
    "    def __radd__(self, other): # other + self delegates to __add__\n",
    "        return self + other"
   ]
  },
  {
   "cell_type": "markdown",
   "metadata": {},
   "source": [
    "First, implement all the ad-hoc tests so far as doctests. Then implement multiplication and subtraction for this class. Notice that this is currently a non-mutable vector."
   ]
  },
  {
   "cell_type": "code",
   "execution_count": 26,
   "metadata": {
    "collapsed": false
   },
   "outputs": [
    {
     "name": "stdout",
     "output_type": "stream",
     "text": [
      "Overwriting vector_test.py\n"
     ]
    }
   ],
   "source": [
    "%%file vector_test.py\n",
    "#your code here\n",
    "\n",
    "#example from Fluent\n",
    "from array import array \n",
    "import reprlib\n",
    "import math\n",
    "import numbers\n",
    "import functools\n",
    "import operator\n",
    "import itertools\n",
    "\n",
    "class Vector:\n",
    "    \"\"\"\n",
    "    Examples\n",
    "    --------\n",
    "    >>> v1 = Vector([1,2])\n",
    "    >>> v2 = Vector([3,4])\n",
    "    >>> v3 = Vector([1,2,3])\n",
    "    >>> v1+1\n",
    "    Vector([2.0, 3.0])\n",
    "    >>> v1+[1,2]\n",
    "    Vector([2.0, 4.0])\n",
    "    >>> 1 + v1\n",
    "    Vector([2.0, 3.0])\n",
    "    >>> [1,2] + v1\n",
    "    Vector([2.0, 4.0])\n",
    "    >>> v1 + v2\n",
    "    Vector([4.0, 6.0])\n",
    "    >>> v2 + v1\n",
    "    Vector([4.0, 6.0])\n",
    "    >>> v1 * v2\n",
    "    Vector([3.0, 8.0])\n",
    "    >>> v2 * v1\n",
    "    Vector([3.0, 8.0])\n",
    "    >>> 4*v1\n",
    "    Vector([4.0, 8.0])\n",
    "    >>> v1*4.9\n",
    "    Vector([4.9, 9.8])\n",
    "    >>> v1 - 0.5\n",
    "    Vector([0.5, 1.5])\n",
    "    >>> v1 - [10.3, -5.2]\n",
    "    Vector([-9.3, 7.2])\n",
    "    \"\"\"\n",
    "    \n",
    "    typecode = 'd'\n",
    "    \n",
    "    def __init__(self, components):\n",
    "        self._components = array(self.typecode, components)\n",
    "        \n",
    "    def __iter__(self):\n",
    "        return iter(self._components)\n",
    "    \n",
    "    def __repr__(self):\n",
    "        components = reprlib.repr(self._components) \n",
    "        components = components[components.find('['):-1] \n",
    "        return 'Vector({})'.format(components)\n",
    "    \n",
    "    def __eq__(self, other):\n",
    "        if isinstance(other, Vector):\n",
    "            return (len(self) == len(other) and\n",
    "                all(a == b for a, b in zip(self, other)))\n",
    "        else:\n",
    "            return NotImplemented\n",
    "    \n",
    "    def __abs__(self):\n",
    "        return math.sqrt(sum(x * x for x in self))\n",
    "    \n",
    "    def __bool__(self): \n",
    "        return bool(abs(self))\n",
    "    \n",
    "    def __len__(self):\n",
    "        return len(self._components)\n",
    "    \n",
    "    def __getitem__(self, index): \n",
    "        cls = type(self)\n",
    "        \n",
    "        if isinstance(index, slice):\n",
    "            return cls(self._components[index])\n",
    "        elif isinstance(index, numbers.Integral): \n",
    "            return self._components[index]\n",
    "        else:\n",
    "            msg = '{.__name__} indices must be integers' \n",
    "            raise TypeError(msg.format(cls))\n",
    "            \n",
    "    def __neg__(self):\n",
    "        return Vector(-x for x in self) \n",
    "    \n",
    "    def __pos__(self):\n",
    "        return Vector(self)\n",
    "    \n",
    "    def _check_length_helper(self , rhs):\n",
    "        if not len(self)==len(rhs):\n",
    "            raise ValueError(str(self)+' and '+str(rhs)+' must have the same length')\n",
    "    \n",
    "    def _elem_op(self, rhs, op):\n",
    "        try:\n",
    "            if isinstance(rhs, numbers.Real):\n",
    "                return Vector( op(a, rhs) for a in self) \n",
    "            else: #\n",
    "                self._check_length_helper(rhs)\n",
    "                pairs = zip(self, rhs)\n",
    "                return Vector( op(a, b) for a, b in pairs)\n",
    "        except TypeError:\n",
    "            raise NotImplemented\n",
    "    \n",
    "    def __add__(self, rhs):\n",
    "        return self._elem_op(rhs, operator.add)\n",
    "    \n",
    "    def __radd__(self, other): # other + self delegates to __add__\n",
    "        return self + other\n",
    "    \n",
    "    def __mul__(self, rhs):\n",
    "        return self._elem_op(rhs, operator.mul)\n",
    "    \n",
    "    def __rmul__(self, other): # other + self delegates to __add__\n",
    "        return self * other\n",
    "    \n",
    "    def __sub__(self, rhs):\n",
    "        return self._elem_op(rhs, operator.sub)\n"
   ]
  },
  {
   "cell_type": "code",
   "execution_count": 28,
   "metadata": {
    "collapsed": false
   },
   "outputs": [
    {
     "name": "stdout",
     "output_type": "stream",
     "text": [
      "discarding /Users/victor/anaconda/bin from PATH\n",
      "prepending /Users/victor/anaconda/envs/py35/bin to PATH\n",
      "\u001b[1m============================= test session starts ==============================\u001b[0m\n",
      "platform darwin -- Python 3.5.1, pytest-2.8.7, py-1.4.31, pluggy-0.3.1\n",
      "rootdir: /Users/victor/Documents/CS207/cs207/labs, inifile: \n",
      "plugins: cov-2.2.1\n",
      "collected 1 items \n",
      "\u001b[0m\n",
      "vector_test.py .\n",
      "\n",
      "\u001b[1m\u001b[32m=========================== 1 passed in 0.03 seconds ===========================\u001b[0m\n"
     ]
    }
   ],
   "source": [
    "!source activate py35 && py.test --doctest-modules vector_test.py"
   ]
  },
  {
   "cell_type": "code",
   "execution_count": 4,
   "metadata": {
    "collapsed": false
   },
   "outputs": [
    {
     "data": {
      "text/plain": [
       "(Vector([2.0, 3.0]),\n",
       " Vector([2.0, 4.0]),\n",
       " Vector([2.0, 3.0]),\n",
       " Vector([2.0, 4.0]),\n",
       " Vector([4.0, 6.0]),\n",
       " Vector([4.0, 6.0]))"
      ]
     },
     "execution_count": 4,
     "metadata": {},
     "output_type": "execute_result"
    }
   ],
   "source": [
    "v1 = Vector([1,2])\n",
    "v2=Vector([3,4])\n",
    "v3=Vector([1,2,3])\n",
    "v1+1,v1+[1,2], 1 + v1, [1,2] + v1, v1 + v2, v2 + v1"
   ]
  },
  {
   "cell_type": "code",
   "execution_count": null,
   "metadata": {
    "collapsed": false
   },
   "outputs": [],
   "source": [
    "print(v1 * v2, v2* v1, 4*v1, v1*4.9)\n",
    "print(v1 - [10.3, -5.2])"
   ]
  },
  {
   "cell_type": "markdown",
   "metadata": {},
   "source": [
    "### Q2. Mixins for functionality\n",
    "\n",
    "Here is a set of methods that logs dictionary access"
   ]
  },
  {
   "cell_type": "code",
   "execution_count": 31,
   "metadata": {
    "collapsed": true
   },
   "outputs": [],
   "source": [
    "class LoggedMappingMixin: \n",
    "    '''\n",
    "    Add logging to get/set/delete operations for debugging. \n",
    "    '''\n",
    "    __slots__ = ()\n",
    "    def __getitem__(self, key): \n",
    "        print('Getting ' + str(key)) \n",
    "        return super().__getitem__(key)\n",
    "    def __setitem__(self, key, value): \n",
    "        print('Setting {} = {!r}'.format(key, value)) \n",
    "        return super().__setitem__(key, value)\n",
    "    def __delitem__(self, key): \n",
    "        print('Deleting ' + str(key)) \n",
    "        return super().__delitem__(key)"
   ]
  },
  {
   "cell_type": "markdown",
   "metadata": {},
   "source": [
    "Notice the use of `super()` here. `super()` is the same as `super(self.__class__, self)`. But we dont have a parent!\n",
    "\n",
    "What is going on? You tell me the answer to this when you inherit a `LoggedDict` with no implementation from both `LoggedMappingMixin` and `dict`. Which order must you inherit in? Play with the `mro` method and figure this out."
   ]
  },
  {
   "cell_type": "code",
   "execution_count": 37,
   "metadata": {
    "collapsed": false
   },
   "outputs": [],
   "source": [
    "#write the LoggedDict class 2 ways and play with the mro, then write the reason\n",
    "# your code here\n",
    "\n",
    "class LoggedDict1(dict, LoggedMappingMixin):\n",
    "    __foo__ = ()\n",
    "\n",
    "class LoggedDict2(LoggedMappingMixin, dict):\n",
    "    __foo__ = ()"
   ]
  },
  {
   "cell_type": "code",
   "execution_count": 49,
   "metadata": {
    "collapsed": false
   },
   "outputs": [
    {
     "name": "stdout",
     "output_type": "stream",
     "text": [
      "Trying implementation LoggedDict1\n",
      "[<class '__main__.LoggedDict1'>, <class 'dict'>, <class '__main__.LoggedMappingMixin'>, <class 'object'>]\n",
      "Trying implementation LoggedDict2\n",
      "Setting foo = 'bar'\n",
      "Deleting foo\n",
      "[<class '__main__.LoggedDict2'>, <class '__main__.LoggedMappingMixin'>, <class 'dict'>, <class 'object'>]\n"
     ]
    }
   ],
   "source": [
    "#your code here\n",
    "\n",
    "def testLogDict(c):\n",
    "    print ('Trying implementation ' + c.__name__)\n",
    "    a = c()\n",
    "    a['foo'] = 'bar'\n",
    "    del a['foo']\n",
    "    print(c.mro())\n",
    "    \n",
    "testLogDict(LoggedDict1)\n",
    "testLogDict(LoggedDict2)"
   ]
  },
  {
   "cell_type": "markdown",
   "metadata": {},
   "source": [
    "*your answer here*\n",
    "\n",
    "We must inherit from LoggedMappingMixin first, and then from dict. As the MRO reveals, if we inherit from dict first, then the dictionary methods are going to come from dict and not LoggedMappingMixing. As a result, the debugging version is not used at all."
   ]
  },
  {
   "cell_type": "markdown",
   "metadata": {},
   "source": [
    "### Q3. The Pavlos Problem\n",
    "\n",
    "ABC's and doctests. The Pavlos problem.\n",
    "\n",
    "Introspection of a class hierarchy is helped by:\n",
    "`__subclasses__()` and `_abc_registry` which give us concrete subclasses and virtual subclasses respectively. We can use this to fully document an interface via an example."
   ]
  },
  {
   "cell_type": "code",
   "execution_count": 110,
   "metadata": {
    "collapsed": false
   },
   "outputs": [
    {
     "name": "stdout",
     "output_type": "stream",
     "text": [
      "Overwriting StackInterface.py\n"
     ]
    }
   ],
   "source": [
    "%%file StackInterface.py\n",
    "\n",
    "import abc\n",
    "class StackInterface(abc.ABC):\n",
    "    \"\"\"\n",
    "    >>> a = Stack()\n",
    "    >>> a.push(1)\n",
    "    >>> a.push(2)\n",
    "    >>> a.peek()\n",
    "    2\n",
    "    >>> a.pop()\n",
    "    2\n",
    "    >>> a.pop()\n",
    "    1\n",
    "    >>> a.peek()\n",
    "    >>> a.pop()\n",
    "    \"\"\"\n",
    "    \n",
    "    @abc.abstractmethod\n",
    "    def push(self, value):\n",
    "        \"Push value onto the stack. Return None\"\n",
    "        \n",
    "    @abc.abstractmethod\n",
    "    def pop(self):\n",
    "        \"Pop value from Stack. Return None if nothingon stack\"\n",
    "        \n",
    "    @abc.abstractmethod\n",
    "    def peek(self):\n",
    "        \"Peeak at top of stack. Return None if empty\""
   ]
  },
  {
   "cell_type": "markdown",
   "metadata": {},
   "source": [
    "Implement `ListStack` using a python list"
   ]
  },
  {
   "cell_type": "code",
   "execution_count": 111,
   "metadata": {
    "collapsed": false
   },
   "outputs": [
    {
     "name": "stdout",
     "output_type": "stream",
     "text": [
      "Overwriting ListStack.py\n"
     ]
    }
   ],
   "source": [
    "%%file ListStack.py\n",
    "#your code here\n",
    "import StackInterface\n",
    "import doctest\n",
    "\n",
    "class ListStack(StackInterface.StackInterface):\n",
    "    def __init__(self):\n",
    "        self._stack = []\n",
    "        \n",
    "    def _is_empty(self):\n",
    "        return not self._stack\n",
    "    \n",
    "    def push(self, value):\n",
    "        self._stack.append(value)\n",
    "    \n",
    "    def pop(self):\n",
    "        if not self._is_empty():\n",
    "            return self._stack.pop()\n",
    "        \n",
    "    def peek(self):\n",
    "        if self._is_empty():\n",
    "            return None\n",
    "        return self._stack[-1]\n",
    "\n",
    "if __name__ == \"__main__\":\n",
    "    a = ListStack()\n",
    "    print ('Testing...')    \n",
    "    doctest.run_docstring_examples(StackInterface.StackInterface, {'Stack': ListStack}, verbose=True)"
   ]
  },
  {
   "cell_type": "markdown",
   "metadata": {},
   "source": [
    "How do we test this using the tests in `StackInterface`? And in general for other virtual or real subclasses? Show this here. (work out doing this from a file at home, you dont need to answer the file case here). This recipe wont work with py.test"
   ]
  },
  {
   "cell_type": "code",
   "execution_count": 112,
   "metadata": {
    "collapsed": false
   },
   "outputs": [
    {
     "name": "stdout",
     "output_type": "stream",
     "text": [
      "discarding /Users/victor/anaconda/bin from PATH\n",
      "prepending /Users/victor/anaconda/envs/py35/bin to PATH\n",
      "Testing...\n",
      "Finding tests in NoName\n",
      "Trying:\n",
      "    a = Stack()\n",
      "Expecting nothing\n",
      "ok\n",
      "Trying:\n",
      "    a.push(1)\n",
      "Expecting nothing\n",
      "ok\n",
      "Trying:\n",
      "    a.push(2)\n",
      "Expecting nothing\n",
      "ok\n",
      "Trying:\n",
      "    a.peek()\n",
      "Expecting:\n",
      "    2\n",
      "ok\n",
      "Trying:\n",
      "    a.pop()\n",
      "Expecting:\n",
      "    2\n",
      "ok\n",
      "Trying:\n",
      "    a.pop()\n",
      "Expecting:\n",
      "    1\n",
      "ok\n",
      "Trying:\n",
      "    a.peek()\n",
      "Expecting nothing\n",
      "ok\n",
      "Trying:\n",
      "    a.pop()\n",
      "Expecting nothing\n",
      "ok\n"
     ]
    }
   ],
   "source": [
    "#your code here\n",
    "!source activate py35 && python ListStack.py"
   ]
  },
  {
   "cell_type": "markdown",
   "metadata": {},
   "source": [
    "### Q4. Your Timeseries Project\n",
    "\n",
    "Operator overloading on your `TimeSeries` class.\n",
    "\n",
    "Your `TimeSeries` class should be, by now, a well documented, well tested, mutable, class which implements:\n",
    "\n",
    "- `__getitem__`: to get a value for a given time\n",
    "- `__setitem__`: set the value for the given time\n",
    "- `__contains__`: is a value in the values\n",
    "- `__iter__`: iterates over values. (This might have iterated over tuples of (time, value) pairs earlier\n",
    "- `values`: returns a numpy array of values\n",
    "- `itervalues`: returns an iterator over them\n",
    "- `times`: returns a numpy array of times\n",
    "- `itertimes`: returns an iterator over them\n",
    "- `items`: returns a list of time-value tuple pairs\n",
    "- `iteritems`: returns an iterator over these\n",
    "- `__len__`: returns a length.\n",
    "- `__repr__`: abbreviating spring representation\n",
    "\n",
    "Add to these methods(again well tested):\n",
    "\n",
    "- infix addition, subtraction, equality and multiplication. Here you must check that the lengths are equal and that the time domains are the same for the case of the operations on a TimeSeries (the latter implies the former). Return a `ValueError` in case this fails:\n",
    "\n",
    "`ValueError(str(self)+' and '+str(rhs)+' must have the same time points')`\n",
    "\n",
    "Let these be elementwise operations, as we might expect from a numpy array-like thing. As before, handle the case of a constant.\n",
    "- unary `__abs__`, `__bool__`, `__neg__`, and `__pos__` with the same semantics as the `Vector` class above.\n",
    "\n",
    "\n",
    "A question that might arise is what to do if we add numpy arrays or regular python lists. These should fail with `raise NotImplemented` as we dont have time associated. An option might have been to associate the array with the time indexing of the other array, but this is making too many assumptions: the user can do this explicitly.\n",
    "\n",
    "You will probably have to catch another exception for this to happen.\n",
    "\n",
    "Put this code into your project repo."
   ]
  },
  {
   "cell_type": "markdown",
   "metadata": {
    "collapsed": true
   },
   "source": [
    "### TO READ: Numpy ufuncs and function overloading\n",
    "\n",
    "Check this out. Read http://docs.scipy.org/doc/numpy-dev/reference/arrays.classes.html#special-attributes-and-methods to understand how this works. We will use it later."
   ]
  },
  {
   "cell_type": "code",
   "execution_count": 1,
   "metadata": {
    "collapsed": false
   },
   "outputs": [],
   "source": [
    "import numpy as np\n",
    "import pandas as pd\n",
    "p=pd.Series([1,2,3])\n",
    "print(type(p))\n",
    "p2=np.exp(p)\n",
    "p2, type(p2)"
   ]
  }
 ],
 "metadata": {
  "kernelspec": {
   "display_name": "Python 3",
   "language": "python",
   "name": "python3"
  },
  "language_info": {
   "codemirror_mode": {
    "name": "ipython",
    "version": 3
   },
   "file_extension": ".py",
   "mimetype": "text/x-python",
   "name": "python",
   "nbconvert_exporter": "python",
   "pygments_lexer": "ipython3",
   "version": "3.5.1"
  }
 },
 "nbformat": 4,
 "nbformat_minor": 0
}
